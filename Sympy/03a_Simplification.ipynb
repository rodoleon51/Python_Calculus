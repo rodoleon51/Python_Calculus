{
 "cells": [
  {
   "cell_type": "code",
   "execution_count": 34,
   "id": "8fa5c780",
   "metadata": {},
   "outputs": [
    {
     "name": "stdout",
     "output_type": "stream",
     "text": [
      "IPython console for SymPy 1.14.0 (Python 3.13.7-64-bit) (ground types: python)\n",
      "\n",
      "These commands were executed:\n",
      ">>> from sympy import *\n",
      ">>> x, y, z, t = symbols('x y z t')\n",
      ">>> k, m, n = symbols('k m n', integer=True)\n",
      ">>> f, g, h = symbols('f g h', cls=Function)\n",
      ">>> init_printing()\n",
      "\n",
      "Documentation can be found at https://docs.sympy.org/1.14.0/\n",
      "\n"
     ]
    }
   ],
   "source": [
    "# To initialize a sympy session with common imports\n",
    "from sympy import init_session\n",
    "init_session()"
   ]
  },
  {
   "cell_type": "markdown",
   "id": "622a4ec0",
   "metadata": {},
   "source": [
    "### Simplify() To convert a string expression to a SymPy expression"
   ]
  },
  {
   "cell_type": "code",
   "execution_count": 35,
   "id": "322f40cc",
   "metadata": {},
   "outputs": [
    {
     "name": "stdout",
     "output_type": "stream",
     "text": [
      "1\n",
      "x - 1\n",
      "(x - 2)*(x - 1)\n"
     ]
    }
   ],
   "source": [
    "print(simplify(sin(x)**2 + cos(x)**2))\n",
    "print(simplify((x**3 + x**2 - x - 1)/(x**2 + 2*x + 1)))\n",
    "print(simplify(gamma(x)/gamma(x - 2)))"
   ]
  },
  {
   "cell_type": "markdown",
   "id": "3349c5dc",
   "metadata": {},
   "source": [
    "### expand() To expand mathematical expressions"
   ]
  },
  {
   "cell_type": "code",
   "execution_count": 36,
   "id": "48ef1f66",
   "metadata": {},
   "outputs": [
    {
     "name": "stdout",
     "output_type": "stream",
     "text": [
      "x**2 + 2*x + 1\n"
     ]
    },
    {
     "data": {
      "image/png": "[encoded data removed]",
      "text/latex": [
       "$\\displaystyle x^{2} - x - 6$"
      ],
      "text/plain": [
       " 2        \n",
       "x  - x - 6"
      ]
     },
     "execution_count": 36,
     "metadata": {},
     "output_type": "execute_result"
    }
   ],
   "source": [
    "print(expand((x + 1)**2))\n",
    "expand((x + 2)*(x - 3))"
   ]
  },
  {
   "cell_type": "markdown",
   "id": "425a7d73",
   "metadata": {},
   "source": [
    "### factor() To factor mathematical expressions"
   ]
  },
  {
   "cell_type": "code",
   "execution_count": 37,
   "id": "b89d4ded",
   "metadata": {},
   "outputs": [
    {
     "name": "stdout",
     "output_type": "stream",
     "text": [
      "(x - 1)*(x**2 + 1)\n",
      "z*(x + 2*y)**2\n",
      "(1, [(z, 1), (x + 2*y, 2)])\n"
     ]
    }
   ],
   "source": [
    "print(factor(x**3 - x**2 + x - 1))\n",
    "print(factor(x**2*z + 4*x*y*z + 4*y**2*z))\n",
    "print(factor_list(x**2*z + 4*x*y*z + 4*y**2*z))"
   ]
  },
  {
   "cell_type": "code",
   "execution_count": 38,
   "id": "2815c9d3",
   "metadata": {},
   "outputs": [
    {
     "name": "stdout",
     "output_type": "stream",
     "text": [
      "sin(x)**2 + 2*sin(x)*cos(x) + cos(x)**2\n",
      "(sin(x) + cos(x))**2\n"
     ]
    }
   ],
   "source": [
    "print(expand((cos(x) + sin(x))**2))\n",
    "print(factor(cos(x)**2 + 2*cos(x)*sin(x) + sin(x)**2))"
   ]
  },
  {
   "cell_type": "markdown",
   "id": "a1ab1a69",
   "metadata": {},
   "source": [
    "### collect() To collect terms with common factors"
   ]
  },
  {
   "cell_type": "code",
   "execution_count": 39,
   "id": "f13e00e9",
   "metadata": {},
   "outputs": [
    {
     "name": "stdout",
     "output_type": "stream",
     "text": [
      "x**3 - x**2*z + 2*x**2 + x*y + x - 3\n",
      "x**3 + x**2*(2 - z) + x*(y + 1) - 3\n"
     ]
    }
   ],
   "source": [
    "expr = x*y + x - 3 + 2*x**2 - z*x**2 + x**3\n",
    "print(expr)\n",
    "collected_expr = collect(expr, x)\n",
    "print(collected_expr)"
   ]
  },
  {
   "cell_type": "markdown",
   "id": "e359baca",
   "metadata": {},
   "source": [
    "### cancel() To cancel common factors in a fraction"
   ]
  },
  {
   "cell_type": "code",
   "execution_count": 40,
   "id": "083e12c0",
   "metadata": {},
   "outputs": [
    {
     "data": {
      "image/png": "[encoded data removed]",
      "text/latex": [
       "$\\displaystyle \\frac{x + 1}{x}$"
      ],
      "text/plain": [
       "x + 1\n",
       "─────\n",
       "  x  "
      ]
     },
     "execution_count": 40,
     "metadata": {},
     "output_type": "execute_result"
    }
   ],
   "source": [
    "cancel((x**2 + 2*x + 1)/(x**2 + x))"
   ]
  },
  {
   "cell_type": "code",
   "execution_count": 41,
   "id": "726ee9c7",
   "metadata": {},
   "outputs": [
    {
     "name": "stdout",
     "output_type": "stream",
     "text": [
      "(3*x/2 - 2)/(x - 4) + 1/x\n"
     ]
    },
    {
     "data": {
      "image/png": "[encoded data removed]",
      "text/latex": [
       "$\\displaystyle \\frac{3 x^{2} - 2 x - 8}{2 x^{2} - 8 x}$"
      ],
      "text/plain": [
       "   2          \n",
       "3⋅x  - 2⋅x - 8\n",
       "──────────────\n",
       "     2        \n",
       "  2⋅x  - 8⋅x  "
      ]
     },
     "execution_count": 41,
     "metadata": {},
     "output_type": "execute_result"
    }
   ],
   "source": [
    "expr = 1/x + (3*x/2 - 2)/(x - 4)\n",
    "print(expr)\n",
    "cancel(expr)"
   ]
  },
  {
   "cell_type": "code",
   "execution_count": 42,
   "id": "111950b9",
   "metadata": {},
   "outputs": [
    {
     "data": {
      "image/png": "[encoded data removed]",
      "text/latex": [
       "$\\displaystyle \\frac{x y^{2} - 2 x y z + x z^{2} + y^{2} - 2 y z + z^{2}}{x^{2} - 1}$"
      ],
      "text/plain": [
       "   2                2    2            2\n",
       "x⋅y  - 2⋅x⋅y⋅z + x⋅z  + y  - 2⋅y⋅z + z \n",
       "───────────────────────────────────────\n",
       "                 2                     \n",
       "                x  - 1                 "
      ]
     },
     "execution_count": 42,
     "metadata": {},
     "output_type": "execute_result"
    }
   ],
   "source": [
    "expr = (x*y**2 - 2*x*y*z + x*z**2 + y**2 - 2*y*z + z**2)/(x**2 - 1)\n",
    "expr"
   ]
  },
  {
   "cell_type": "code",
   "execution_count": 43,
   "id": "611218d0",
   "metadata": {},
   "outputs": [
    {
     "data": {
      "image/png": "[encoded data removed]",
      "text/latex": [
       "$\\displaystyle \\frac{y^{2} - 2 y z + z^{2}}{x - 1}$"
      ],
      "text/plain": [
       " 2            2\n",
       "y  - 2⋅y⋅z + z \n",
       "───────────────\n",
       "     x - 1     "
      ]
     },
     "execution_count": 43,
     "metadata": {},
     "output_type": "execute_result"
    }
   ],
   "source": [
    "cancel(expr)"
   ]
  },
  {
   "cell_type": "code",
   "execution_count": 44,
   "id": "368586a7",
   "metadata": {},
   "outputs": [
    {
     "data": {
      "image/png": "[encoded data removed]",
      "text/latex": [
       "$\\displaystyle \\frac{\\left(y - z\\right)^{2}}{x - 1}$"
      ],
      "text/plain": [
       "       2\n",
       "(y - z) \n",
       "────────\n",
       " x - 1  "
      ]
     },
     "execution_count": 44,
     "metadata": {},
     "output_type": "execute_result"
    }
   ],
   "source": [
    "factor(expr)"
   ]
  },
  {
   "cell_type": "markdown",
   "id": "418160ab",
   "metadata": {},
   "source": [
    "### apart() To decompose a rational function into partial fractions"
   ]
  },
  {
   "cell_type": "code",
   "execution_count": 45,
   "id": "ce1a8367",
   "metadata": {},
   "outputs": [
    {
     "data": {
      "image/png": "[encoded data removed]",
      "text/latex": [
       "$\\displaystyle \\frac{4 x^{3} + 21 x^{2} + 10 x + 12}{x^{4} + 5 x^{3} + 5 x^{2} + 4 x}$"
      ],
      "text/plain": [
       "   3       2            \n",
       "4⋅x  + 21⋅x  + 10⋅x + 12\n",
       "────────────────────────\n",
       "  4      3      2       \n",
       " x  + 5⋅x  + 5⋅x  + 4⋅x "
      ]
     },
     "execution_count": 45,
     "metadata": {},
     "output_type": "execute_result"
    }
   ],
   "source": [
    "expr = (4*x**3 + 21*x**2 + 10*x + 12)/(x**4 + 5*x**3 + 5*x**2 + 4*x)\n",
    "expr\n"
   ]
  },
  {
   "cell_type": "code",
   "execution_count": 46,
   "id": "0413138a",
   "metadata": {},
   "outputs": [
    {
     "data": {
      "image/png": "[encoded data removed]",
      "text/latex": [
       "$\\displaystyle \\frac{2 x - 1}{x^{2} + x + 1} - \\frac{1}{x + 4} + \\frac{3}{x}$"
      ],
      "text/plain": [
       " 2⋅x - 1       1     3\n",
       "────────── - ───── + ─\n",
       " 2           x + 4   x\n",
       "x  + x + 1            "
      ]
     },
     "execution_count": 46,
     "metadata": {},
     "output_type": "execute_result"
    }
   ],
   "source": [
    "apart(expr)"
   ]
  },
  {
   "cell_type": "markdown",
   "id": "5b2a7197",
   "metadata": {},
   "source": [
    "### Trigonometric simplification functions"
   ]
  },
  {
   "cell_type": "code",
   "execution_count": 47,
   "id": "4fc44bf2",
   "metadata": {},
   "outputs": [
    {
     "name": "stdout",
     "output_type": "stream",
     "text": [
      "acos(x)\n",
      "x\n",
      "pi/2\n"
     ]
    }
   ],
   "source": [
    "print(acos(x))\n",
    "print(cos(acos(x)))\n",
    "print(asin(1))"
   ]
  },
  {
   "cell_type": "markdown",
   "id": "3370ef5a",
   "metadata": {},
   "source": [
    "#### trigsimp() To simplify trigonometric expressions"
   ]
  },
  {
   "cell_type": "code",
   "execution_count": 48,
   "id": "cf792523",
   "metadata": {},
   "outputs": [
    {
     "name": "stdout",
     "output_type": "stream",
     "text": [
      "1\n",
      "cos(4*x)/2 + 1/2\n",
      "sin(x)**2\n"
     ]
    }
   ],
   "source": [
    "print(trigsimp(sin(x)**2 + cos(x)**2))\n",
    "print(trigsimp(sin(x)**4 - 2*cos(x)**2*sin(x)**2 + cos(x)**4))\n",
    "print(trigsimp(sin(x)*tan(x)/sec(x)))"
   ]
  },
  {
   "cell_type": "code",
   "execution_count": 50,
   "id": "b9c9c285",
   "metadata": {},
   "outputs": [
    {
     "name": "stdout",
     "output_type": "stream",
     "text": [
      "cosh(2*x)\n",
      "cosh(x)\n"
     ]
    }
   ],
   "source": [
    "print(trigsimp(cosh(x)**2 + sinh(x)**2))\n",
    "print(trigsimp(sinh(x)/tanh(x)))"
   ]
  },
  {
   "cell_type": "markdown",
   "id": "bc1c436f",
   "metadata": {},
   "source": [
    "#### expand_trig() To expand trigonometric expressions"
   ]
  },
  {
   "cell_type": "code",
   "execution_count": 54,
   "id": "2e2b1d40",
   "metadata": {},
   "outputs": [
    {
     "data": {
      "image/png": "[encoded data removed]",
      "text/latex": [
       "$\\displaystyle \\sin{\\left(x \\right)} \\cos{\\left(y \\right)} + \\sin{\\left(y \\right)} \\cos{\\left(x \\right)}$"
      ],
      "text/plain": [
       "sin(x)⋅cos(y) + sin(y)⋅cos(x)"
      ]
     },
     "execution_count": 54,
     "metadata": {},
     "output_type": "execute_result"
    }
   ],
   "source": [
    "expand_trig(sin(x + y))\n"
   ]
  },
  {
   "cell_type": "code",
   "execution_count": 53,
   "id": "636c8d4e",
   "metadata": {},
   "outputs": [
    {
     "data": {
      "image/png": "[encoded data removed]",
      "text/latex": [
       "$\\displaystyle \\frac{2 \\tan{\\left(x \\right)}}{1 - \\tan^{2}{\\left(x \\right)}}$"
      ],
      "text/plain": [
       " 2⋅tan(x)  \n",
       "───────────\n",
       "       2   \n",
       "1 - tan (x)"
      ]
     },
     "execution_count": 53,
     "metadata": {},
     "output_type": "execute_result"
    }
   ],
   "source": [
    "(expand_trig(tan(2*x)))"
   ]
  }
 ],
 "metadata": {
  "kernelspec": {
   "display_name": "Python 3",
   "language": "python",
   "name": "python3"
  },
  "language_info": {
   "codemirror_mode": {
    "name": "ipython",
    "version": 3
   },
   "file_extension": ".py",
   "mimetype": "text/x-python",
   "name": "python",
   "nbconvert_exporter": "python",
   "pygments_lexer": "ipython3",
   "version": "3.13.7"
  }
 },
 "nbformat": 4,
 "nbformat_minor": 5
}
