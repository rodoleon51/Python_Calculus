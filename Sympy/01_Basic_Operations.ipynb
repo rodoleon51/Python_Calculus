{
 "cells": [
  {
   "cell_type": "code",
   "execution_count": 16,
   "id": "12efe315",
   "metadata": {},
   "outputs": [],
   "source": [
    "# To initialize a sympy session with common imports\n",
    "#from sympy import init_session\n",
    "#init_session()\n",
    "from sympy import *\n",
    "x,y,z = symbols('x y z')"
   ]
  },
  {
   "cell_type": "markdown",
   "id": "6fa9c72b",
   "metadata": {},
   "source": [
    "### Substitution"
   ]
  },
  {
   "cell_type": "code",
   "execution_count": 17,
   "id": "3c545209",
   "metadata": {},
   "outputs": [
    {
     "data": {
      "text/latex": [
       "$\\displaystyle \\cos{\\left(y \\right)} + 1$"
      ],
      "text/plain": [
       "cos(y) + 1"
      ]
     },
     "execution_count": 17,
     "metadata": {},
     "output_type": "execute_result"
    }
   ],
   "source": [
    "expr = cos(x) + 1\n",
    "expr.subs(x, y)"
   ]
  },
  {
   "cell_type": "code",
   "execution_count": 18,
   "id": "94a1f76e",
   "metadata": {},
   "outputs": [
    {
     "data": {
      "text/latex": [
       "$\\displaystyle 2$"
      ],
      "text/plain": [
       "2"
      ]
     },
     "execution_count": 18,
     "metadata": {},
     "output_type": "execute_result"
    }
   ],
   "source": [
    "expr = cos(x) + 1\n",
    "expr.subs(x, 0)"
   ]
  },
  {
   "cell_type": "code",
   "execution_count": 19,
   "id": "d82c662c",
   "metadata": {},
   "outputs": [
    {
     "name": "stdout",
     "output_type": "stream",
     "text": [
      "x**y\n",
      "x**(x**y)\n",
      "x**(x**(x**x))\n"
     ]
    },
    {
     "data": {
      "text/latex": [
       "$\\displaystyle x^{x^{x^{x}}}$"
      ],
      "text/plain": [
       "x**(x**(x**x))"
      ]
     },
     "execution_count": 19,
     "metadata": {},
     "output_type": "execute_result"
    }
   ],
   "source": [
    "expr = x**y\n",
    "print(expr) # normal print format\n",
    "expr = expr.subs(y, x**y)\n",
    "print(expr)\n",
    "expr = expr.subs(y, x**x)\n",
    "print(expr)\n",
    "expr    # Final expression after substitutions in pretty format"
   ]
  },
  {
   "cell_type": "code",
   "execution_count": 20,
   "id": "dd869ba1",
   "metadata": {},
   "outputs": [
    {
     "name": "stdout",
     "output_type": "stream",
     "text": [
      "2*sin(x)*cos(x) + 2*cos(x)**2 - 1\n",
      "2*sin(x)*cos(x) + cos(2*x)\n"
     ]
    }
   ],
   "source": [
    "expr = sin(2*x) + cos(2*x)\n",
    "expand_trig(expr)\n",
    "print(expand_trig(expr))\n",
    "expr = expr.subs(sin(2*x), 2*sin(x)*cos(x))\n",
    "print(expr)\n"
   ]
  },
  {
   "cell_type": "code",
   "execution_count": 21,
   "id": "4636e0d5",
   "metadata": {},
   "outputs": [
    {
     "name": "stdout",
     "output_type": "stream",
     "text": [
      "cos(x)\n",
      "x\n"
     ]
    }
   ],
   "source": [
    "expr = cos(x)\n",
    "expr.subs(x, 0)\n",
    "print(expr) # subs does not change expr unless reassigned\n",
    "print(x)"
   ]
  },
  {
   "cell_type": "code",
   "execution_count": 22,
   "id": "5742dd0a",
   "metadata": {},
   "outputs": [
    {
     "data": {
      "text/latex": [
       "$\\displaystyle 40$"
      ],
      "text/plain": [
       "40"
      ]
     },
     "execution_count": 22,
     "metadata": {},
     "output_type": "execute_result"
    }
   ],
   "source": [
    "# o perform multiple substitutions at once, pass a list of (old, new) pairs to subs().\n",
    "expr = x**3 + 4*x*y - z\n",
    "expr.subs([(x, 2), (y, 4), (z, 0)])"
   ]
  },
  {
   "cell_type": "code",
   "execution_count": 23,
   "id": "182f16bb",
   "metadata": {},
   "outputs": [
    {
     "data": {
      "text/latex": [
       "$\\displaystyle - 4 x^{3} - 2 x + y^{4} + 4 y^{2} + 3$"
      ],
      "text/plain": [
       "-4*x**3 - 2*x + y**4 + 4*y**2 + 3"
      ]
     },
     "execution_count": 23,
     "metadata": {},
     "output_type": "execute_result"
    }
   ],
   "source": [
    "expr = x**4 - 4*x**3 + 4*x**2 - 2*x + 3\n",
    "replacements = [(x**i, y**i) for i in range(5) if i % 2 == 0]\n",
    "expr.subs(replacements)"
   ]
  },
  {
   "cell_type": "markdown",
   "id": "7b354dbe",
   "metadata": {},
   "source": [
    "### Converting Strings to SymPy Expressions"
   ]
  },
  {
   "cell_type": "code",
   "execution_count": 24,
   "id": "7f5db450",
   "metadata": {},
   "outputs": [
    {
     "data": {
      "text/latex": [
       "$\\displaystyle \\frac{19}{2}$"
      ],
      "text/plain": [
       "19/2"
      ]
     },
     "execution_count": 24,
     "metadata": {},
     "output_type": "execute_result"
    }
   ],
   "source": [
    "# simpify() can convert a string expression to a SymPy expression\n",
    "str_expr = \"x**2 + 3*x - 1/2\"\n",
    "expr = sympify(str_expr)\n",
    "expr\n",
    "expr.subs(x, 2)"
   ]
  },
  {
   "cell_type": "markdown",
   "id": "31b884ed",
   "metadata": {},
   "source": [
    "### evalf() To evaluate a numerical expression into a floating point number"
   ]
  },
  {
   "cell_type": "code",
   "execution_count": 25,
   "id": "944b0c3b",
   "metadata": {},
   "outputs": [
    {
     "name": "stdout",
     "output_type": "stream",
     "text": [
      "2.8284\n"
     ]
    },
    {
     "data": {
      "text/latex": [
       "$\\displaystyle 3.141592654$"
      ],
      "text/plain": [
       "3.141592654"
      ]
     },
     "execution_count": 25,
     "metadata": {},
     "output_type": "execute_result"
    }
   ],
   "source": [
    "expr = sqrt(8)\n",
    "print(expr.evalf(5))  # 5 significant digits\n",
    "pi.evalf(10)  # 10 significant digits"
   ]
  },
  {
   "cell_type": "code",
   "execution_count": 26,
   "id": "4b8597db",
   "metadata": {},
   "outputs": [
    {
     "name": "stdout",
     "output_type": "stream",
     "text": [
      "0.0874989834394464\n"
     ]
    }
   ],
   "source": [
    "expr = cos(2*x)\n",
    "print(expr.evalf(subs={x: 2.4}))"
   ]
  },
  {
   "cell_type": "code",
   "execution_count": 27,
   "id": "0e8e65eb",
   "metadata": {},
   "outputs": [
    {
     "name": "stdout",
     "output_type": "stream",
     "text": [
      "-0.e-124\n",
      "0\n"
     ]
    }
   ],
   "source": [
    "one = cos(1)**2 + sin(1)**2\n",
    "print((one - 1).evalf())\n",
    "print((one - 1).evalf(chop=True))"
   ]
  },
  {
   "cell_type": "markdown",
   "id": "481b23dc",
   "metadata": {},
   "source": [
    "### lambdify() To convert SymPy expressions to numerical functions"
   ]
  },
  {
   "cell_type": "code",
   "execution_count": 28,
   "id": "864cdc0b",
   "metadata": {},
   "outputs": [
    {
     "data": {
      "text/plain": [
       "array([ 0.        ,  0.84147098,  0.90929743,  0.14112001, -0.7568025 ,\n",
       "       -0.95892427, -0.2794155 ,  0.6569866 ,  0.98935825,  0.41211849])"
      ]
     },
     "execution_count": 28,
     "metadata": {},
     "output_type": "execute_result"
    }
   ],
   "source": [
    "import numpy\n",
    "a = numpy.arange(10)\n",
    "expr = sin(x)\n",
    "f = lambdify(x, expr, \"numpy\")\n",
    "f(a)"
   ]
  },
  {
   "cell_type": "code",
   "execution_count": 29,
   "id": "b498ec85",
   "metadata": {},
   "outputs": [
    {
     "data": {
      "text/plain": [
       "0.9900498337491681"
      ]
     },
     "execution_count": 29,
     "metadata": {},
     "output_type": "execute_result"
    }
   ],
   "source": [
    "# Use of lambdify with alternative modules\n",
    "expr = exp(-x**2)\n",
    "f = lambdify(x, expr, \"math\")\n",
    "f(0.1)"
   ]
  }
 ],
 "metadata": {
  "kernelspec": {
   "display_name": "Python 3",
   "language": "python",
   "name": "python3"
  },
  "language_info": {
   "codemirror_mode": {
    "name": "ipython",
    "version": 3
   },
   "file_extension": ".py",
   "mimetype": "text/x-python",
   "name": "python",
   "nbconvert_exporter": "python",
   "pygments_lexer": "ipython3",
   "version": "3.13.7"
  }
 },
 "nbformat": 4,
 "nbformat_minor": 5
}
