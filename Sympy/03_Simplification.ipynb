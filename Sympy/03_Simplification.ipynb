{
 "cells": [
  {
   "cell_type": "code",
   "execution_count": 3,
   "id": "8fa5c780",
   "metadata": {},
   "outputs": [
    {
     "name": "stdout",
     "output_type": "stream",
     "text": [
      "IPython console for SymPy 1.14.0 (Python 3.13.7-64-bit) (ground types: python)\n",
      "\n",
      "These commands were executed:\n",
      ">>> from sympy import *\n",
      ">>> x, y, z, t = symbols('x y z t')\n",
      ">>> k, m, n = symbols('k m n', integer=True)\n",
      ">>> f, g, h = symbols('f g h', cls=Function)\n",
      ">>> init_printing()\n",
      "\n",
      "Documentation can be found at https://docs.sympy.org/1.14.0/\n",
      "\n"
     ]
    }
   ],
   "source": [
    "# To initialize a sympy session with common imports\n",
    "from sympy import init_session\n",
    "init_session()"
   ]
  },
  {
   "cell_type": "markdown",
   "id": "622a4ec0",
   "metadata": {},
   "source": [
    "## Simplify() To convert a string expression to a SymPy expression"
   ]
  },
  {
   "cell_type": "code",
   "execution_count": 2,
   "id": "322f40cc",
   "metadata": {},
   "outputs": [
    {
     "name": "stdout",
     "output_type": "stream",
     "text": [
      "1\n",
      "x - 1\n",
      "(x - 2)*(x - 1)\n"
     ]
    }
   ],
   "source": [
    "print(simplify(sin(x)**2 + cos(x)**2))\n",
    "print(simplify((x**3 + x**2 - x - 1)/(x**2 + 2*x + 1)))\n",
    "print(simplify(gamma(x)/gamma(x - 2)))"
   ]
  },
  {
   "cell_type": "markdown",
   "id": "3349c5dc",
   "metadata": {},
   "source": [
    "## expand() To expand mathematical expressions"
   ]
  },
  {
   "cell_type": "code",
   "execution_count": 5,
   "id": "48ef1f66",
   "metadata": {},
   "outputs": [
    {
     "name": "stdout",
     "output_type": "stream",
     "text": [
      "x**2 + 2*x + 1\n"
     ]
    },
    {
     "data": {
      "image/png": "[encoded data removed]",
      "text/latex": [
       "$\\displaystyle x^{2} - x - 6$"
      ],
      "text/plain": [
       " 2        \n",
       "x  - x - 6"
      ]
     },
     "execution_count": 5,
     "metadata": {},
     "output_type": "execute_result"
    }
   ],
   "source": [
    "print(expand((x + 1)**2))\n",
    "expand((x + 2)*(x - 3))"
   ]
  }
 ],
 "metadata": {
  "kernelspec": {
   "display_name": "Python 3",
   "language": "python",
   "name": "python3"
  },
  "language_info": {
   "codemirror_mode": {
    "name": "ipython",
    "version": 3
   },
   "file_extension": ".py",
   "mimetype": "text/x-python",
   "name": "python",
   "nbconvert_exporter": "python",
   "pygments_lexer": "ipython3",
   "version": "3.13.7"
  }
 },
 "nbformat": 4,
 "nbformat_minor": 5
}
