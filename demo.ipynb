{
 "cells": [
  {
   "cell_type": "code",
   "execution_count": 4,
   "id": "18f934ea",
   "metadata": {},
   "outputs": [
    {
     "name": "stdout",
     "output_type": "stream",
     "text": [
      "SymPy version: 1.14.0\n",
      "SciPy version: 1.16.1\n",
      "NumPy version: 2.3.2\n"
     ]
    }
   ],
   "source": [
    "import sympy as sp\n",
    "import scipy\n",
    "\n",
    "print(\"SymPy version:\", sp.__version__)\n",
    "print(\"SciPy version:\", scipy.__version__)\n",
    "print(\"NumPy version:\", scipy.__numpy_version__)\n"
   ]
  },
  {
   "cell_type": "code",
   "execution_count": 5,
   "id": "ab7f420d",
   "metadata": {},
   "outputs": [
    {
     "name": "stdout",
     "output_type": "stream",
     "text": [
      "SymPy result: 2 ≈ 2.0\n",
      "SciPy result: 2.0\n",
      "Estimated error: 2.220446049250313e-14\n"
     ]
    }
   ],
   "source": [
    "import sympy as sp\n",
    "import scipy.integrate as integrate\n",
    "import numpy as np\n",
    "\n",
    "# ---------- SymPy (symbolic calculus) ----------\n",
    "x = sp.symbols('x')\n",
    "expr = sp.sin(x)\n",
    "\n",
    "# Symbolic integration\n",
    "sympy_result = sp.integrate(expr, (x, 0, sp.pi))\n",
    "\n",
    "print(\"SymPy result:\", sympy_result, \"≈\", float(sympy_result))\n",
    "\n",
    "\n",
    "# ---------- SciPy (numerical calculus) ----------\n",
    "f = lambda x: np.sin(x)\n",
    "\n",
    "# Numerical integration using quad\n",
    "scipy_result, error = integrate.quad(f, 0, np.pi)\n",
    "\n",
    "print(\"SciPy result:\", scipy_result)\n",
    "print(\"Estimated error:\", error)\n"
   ]
  }
 ],
 "metadata": {
  "kernelspec": {
   "display_name": "Python 3",
   "language": "python",
   "name": "python3"
  },
  "language_info": {
   "codemirror_mode": {
    "name": "ipython",
    "version": 3
   },
   "file_extension": ".py",
   "mimetype": "text/x-python",
   "name": "python",
   "nbconvert_exporter": "python",
   "pygments_lexer": "ipython3",
   "version": "3.13.7"
  }
 },
 "nbformat": 4,
 "nbformat_minor": 5
}
